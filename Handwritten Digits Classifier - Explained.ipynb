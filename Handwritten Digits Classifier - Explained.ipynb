{
  "nbformat": 4,
  "nbformat_minor": 0,
  "metadata": {
    "orig_nbformat": 4,
    "colab": {
      "name": "Handwritten Digits Classifier - Explained.ipynb",
      "provenance": []
    },
    "language_info": {
      "name": "python"
    },
    "kernelspec": {
      "name": "python3",
      "display_name": "Python 3"
    },
    "widgets": {
      "application/vnd.jupyter.widget-state+json": {
        "a548ce0daa374d388cbdf0716cc59346": {
          "model_module": "@jupyter-widgets/controls",
          "model_name": "HBoxModel",
          "model_module_version": "1.5.0",
          "state": {
            "_view_name": "HBoxView",
            "_dom_classes": [],
            "_model_name": "HBoxModel",
            "_view_module": "@jupyter-widgets/controls",
            "_model_module_version": "1.5.0",
            "_view_count": null,
            "_view_module_version": "1.5.0",
            "box_style": "",
            "layout": "IPY_MODEL_2697ec51f4a34b9ea20691b95e486f39",
            "_model_module": "@jupyter-widgets/controls",
            "children": [
              "IPY_MODEL_b410090ce64049d8a2275b2641abd2ab",
              "IPY_MODEL_57c15d82658340cb8a0fb0c6f33d838a",
              "IPY_MODEL_7a7bd22a53c04be3981e2290de5eeb76"
            ]
          }
        },
        "2697ec51f4a34b9ea20691b95e486f39": {
          "model_module": "@jupyter-widgets/base",
          "model_name": "LayoutModel",
          "model_module_version": "1.2.0",
          "state": {
            "_view_name": "LayoutView",
            "grid_template_rows": null,
            "right": null,
            "justify_content": null,
            "_view_module": "@jupyter-widgets/base",
            "overflow": null,
            "_model_module_version": "1.2.0",
            "_view_count": null,
            "flex_flow": null,
            "width": null,
            "min_width": null,
            "border": null,
            "align_items": null,
            "bottom": null,
            "_model_module": "@jupyter-widgets/base",
            "top": null,
            "grid_column": null,
            "overflow_y": null,
            "overflow_x": null,
            "grid_auto_flow": null,
            "grid_area": null,
            "grid_template_columns": null,
            "flex": null,
            "_model_name": "LayoutModel",
            "justify_items": null,
            "grid_row": null,
            "max_height": null,
            "align_content": null,
            "visibility": null,
            "align_self": null,
            "height": null,
            "min_height": null,
            "padding": null,
            "grid_auto_rows": null,
            "grid_gap": null,
            "max_width": null,
            "order": null,
            "_view_module_version": "1.2.0",
            "grid_template_areas": null,
            "object_position": null,
            "object_fit": null,
            "grid_auto_columns": null,
            "margin": null,
            "display": null,
            "left": null
          }
        },
        "b410090ce64049d8a2275b2641abd2ab": {
          "model_module": "@jupyter-widgets/controls",
          "model_name": "HTMLModel",
          "model_module_version": "1.5.0",
          "state": {
            "_view_name": "HTMLView",
            "style": "IPY_MODEL_ae8f8ebc462d429eb82c287805983f01",
            "_dom_classes": [],
            "description": "",
            "_model_name": "HTMLModel",
            "placeholder": "​",
            "_view_module": "@jupyter-widgets/controls",
            "_model_module_version": "1.5.0",
            "value": "",
            "_view_count": null,
            "_view_module_version": "1.5.0",
            "description_tooltip": null,
            "_model_module": "@jupyter-widgets/controls",
            "layout": "IPY_MODEL_3f263a9709784f4c88019cf70086ce53"
          }
        },
        "57c15d82658340cb8a0fb0c6f33d838a": {
          "model_module": "@jupyter-widgets/controls",
          "model_name": "FloatProgressModel",
          "model_module_version": "1.5.0",
          "state": {
            "_view_name": "ProgressView",
            "style": "IPY_MODEL_1d1eea116def45e79c150f6e5f28394c",
            "_dom_classes": [],
            "description": "",
            "_model_name": "FloatProgressModel",
            "bar_style": "success",
            "max": 9912422,
            "_view_module": "@jupyter-widgets/controls",
            "_model_module_version": "1.5.0",
            "value": 9912422,
            "_view_count": null,
            "_view_module_version": "1.5.0",
            "orientation": "horizontal",
            "min": 0,
            "description_tooltip": null,
            "_model_module": "@jupyter-widgets/controls",
            "layout": "IPY_MODEL_714fd57f3d5a43839c5f852ab2a87b1f"
          }
        },
        "7a7bd22a53c04be3981e2290de5eeb76": {
          "model_module": "@jupyter-widgets/controls",
          "model_name": "HTMLModel",
          "model_module_version": "1.5.0",
          "state": {
            "_view_name": "HTMLView",
            "style": "IPY_MODEL_1a7ae08be6874b09b4b9dc117518aa9b",
            "_dom_classes": [],
            "description": "",
            "_model_name": "HTMLModel",
            "placeholder": "​",
            "_view_module": "@jupyter-widgets/controls",
            "_model_module_version": "1.5.0",
            "value": " 9913344/? [00:00&lt;00:00, 34547239.57it/s]",
            "_view_count": null,
            "_view_module_version": "1.5.0",
            "description_tooltip": null,
            "_model_module": "@jupyter-widgets/controls",
            "layout": "IPY_MODEL_71289c58ebb740ee9ebf95c02a79e872"
          }
        },
        "ae8f8ebc462d429eb82c287805983f01": {
          "model_module": "@jupyter-widgets/controls",
          "model_name": "DescriptionStyleModel",
          "model_module_version": "1.5.0",
          "state": {
            "_view_name": "StyleView",
            "_model_name": "DescriptionStyleModel",
            "description_width": "",
            "_view_module": "@jupyter-widgets/base",
            "_model_module_version": "1.5.0",
            "_view_count": null,
            "_view_module_version": "1.2.0",
            "_model_module": "@jupyter-widgets/controls"
          }
        },
        "3f263a9709784f4c88019cf70086ce53": {
          "model_module": "@jupyter-widgets/base",
          "model_name": "LayoutModel",
          "model_module_version": "1.2.0",
          "state": {
            "_view_name": "LayoutView",
            "grid_template_rows": null,
            "right": null,
            "justify_content": null,
            "_view_module": "@jupyter-widgets/base",
            "overflow": null,
            "_model_module_version": "1.2.0",
            "_view_count": null,
            "flex_flow": null,
            "width": null,
            "min_width": null,
            "border": null,
            "align_items": null,
            "bottom": null,
            "_model_module": "@jupyter-widgets/base",
            "top": null,
            "grid_column": null,
            "overflow_y": null,
            "overflow_x": null,
            "grid_auto_flow": null,
            "grid_area": null,
            "grid_template_columns": null,
            "flex": null,
            "_model_name": "LayoutModel",
            "justify_items": null,
            "grid_row": null,
            "max_height": null,
            "align_content": null,
            "visibility": null,
            "align_self": null,
            "height": null,
            "min_height": null,
            "padding": null,
            "grid_auto_rows": null,
            "grid_gap": null,
            "max_width": null,
            "order": null,
            "_view_module_version": "1.2.0",
            "grid_template_areas": null,
            "object_position": null,
            "object_fit": null,
            "grid_auto_columns": null,
            "margin": null,
            "display": null,
            "left": null
          }
        },
        "1d1eea116def45e79c150f6e5f28394c": {
          "model_module": "@jupyter-widgets/controls",
          "model_name": "ProgressStyleModel",
          "model_module_version": "1.5.0",
          "state": {
            "_view_name": "StyleView",
            "_model_name": "ProgressStyleModel",
            "description_width": "",
            "_view_module": "@jupyter-widgets/base",
            "_model_module_version": "1.5.0",
            "_view_count": null,
            "_view_module_version": "1.2.0",
            "bar_color": null,
            "_model_module": "@jupyter-widgets/controls"
          }
        },
        "714fd57f3d5a43839c5f852ab2a87b1f": {
          "model_module": "@jupyter-widgets/base",
          "model_name": "LayoutModel",
          "model_module_version": "1.2.0",
          "state": {
            "_view_name": "LayoutView",
            "grid_template_rows": null,
            "right": null,
            "justify_content": null,
            "_view_module": "@jupyter-widgets/base",
            "overflow": null,
            "_model_module_version": "1.2.0",
            "_view_count": null,
            "flex_flow": null,
            "width": null,
            "min_width": null,
            "border": null,
            "align_items": null,
            "bottom": null,
            "_model_module": "@jupyter-widgets/base",
            "top": null,
            "grid_column": null,
            "overflow_y": null,
            "overflow_x": null,
            "grid_auto_flow": null,
            "grid_area": null,
            "grid_template_columns": null,
            "flex": null,
            "_model_name": "LayoutModel",
            "justify_items": null,
            "grid_row": null,
            "max_height": null,
            "align_content": null,
            "visibility": null,
            "align_self": null,
            "height": null,
            "min_height": null,
            "padding": null,
            "grid_auto_rows": null,
            "grid_gap": null,
            "max_width": null,
            "order": null,
            "_view_module_version": "1.2.0",
            "grid_template_areas": null,
            "object_position": null,
            "object_fit": null,
            "grid_auto_columns": null,
            "margin": null,
            "display": null,
            "left": null
          }
        },
        "1a7ae08be6874b09b4b9dc117518aa9b": {
          "model_module": "@jupyter-widgets/controls",
          "model_name": "DescriptionStyleModel",
          "model_module_version": "1.5.0",
          "state": {
            "_view_name": "StyleView",
            "_model_name": "DescriptionStyleModel",
            "description_width": "",
            "_view_module": "@jupyter-widgets/base",
            "_model_module_version": "1.5.0",
            "_view_count": null,
            "_view_module_version": "1.2.0",
            "_model_module": "@jupyter-widgets/controls"
          }
        },
        "71289c58ebb740ee9ebf95c02a79e872": {
          "model_module": "@jupyter-widgets/base",
          "model_name": "LayoutModel",
          "model_module_version": "1.2.0",
          "state": {
            "_view_name": "LayoutView",
            "grid_template_rows": null,
            "right": null,
            "justify_content": null,
            "_view_module": "@jupyter-widgets/base",
            "overflow": null,
            "_model_module_version": "1.2.0",
            "_view_count": null,
            "flex_flow": null,
            "width": null,
            "min_width": null,
            "border": null,
            "align_items": null,
            "bottom": null,
            "_model_module": "@jupyter-widgets/base",
            "top": null,
            "grid_column": null,
            "overflow_y": null,
            "overflow_x": null,
            "grid_auto_flow": null,
            "grid_area": null,
            "grid_template_columns": null,
            "flex": null,
            "_model_name": "LayoutModel",
            "justify_items": null,
            "grid_row": null,
            "max_height": null,
            "align_content": null,
            "visibility": null,
            "align_self": null,
            "height": null,
            "min_height": null,
            "padding": null,
            "grid_auto_rows": null,
            "grid_gap": null,
            "max_width": null,
            "order": null,
            "_view_module_version": "1.2.0",
            "grid_template_areas": null,
            "object_position": null,
            "object_fit": null,
            "grid_auto_columns": null,
            "margin": null,
            "display": null,
            "left": null
          }
        },
        "3a7a6d8e12b94a42a8d37f24e49d4d21": {
          "model_module": "@jupyter-widgets/controls",
          "model_name": "HBoxModel",
          "model_module_version": "1.5.0",
          "state": {
            "_view_name": "HBoxView",
            "_dom_classes": [],
            "_model_name": "HBoxModel",
            "_view_module": "@jupyter-widgets/controls",
            "_model_module_version": "1.5.0",
            "_view_count": null,
            "_view_module_version": "1.5.0",
            "box_style": "",
            "layout": "IPY_MODEL_107c85e461f149f58207324e927b6275",
            "_model_module": "@jupyter-widgets/controls",
            "children": [
              "IPY_MODEL_7af19a66b1ac48e6bf29e762cf23eab1",
              "IPY_MODEL_06d174785b94483ca6e2e0b5dc657a4e",
              "IPY_MODEL_87ee47dd35d84f8a83d6f5bce7224649"
            ]
          }
        },
        "107c85e461f149f58207324e927b6275": {
          "model_module": "@jupyter-widgets/base",
          "model_name": "LayoutModel",
          "model_module_version": "1.2.0",
          "state": {
            "_view_name": "LayoutView",
            "grid_template_rows": null,
            "right": null,
            "justify_content": null,
            "_view_module": "@jupyter-widgets/base",
            "overflow": null,
            "_model_module_version": "1.2.0",
            "_view_count": null,
            "flex_flow": null,
            "width": null,
            "min_width": null,
            "border": null,
            "align_items": null,
            "bottom": null,
            "_model_module": "@jupyter-widgets/base",
            "top": null,
            "grid_column": null,
            "overflow_y": null,
            "overflow_x": null,
            "grid_auto_flow": null,
            "grid_area": null,
            "grid_template_columns": null,
            "flex": null,
            "_model_name": "LayoutModel",
            "justify_items": null,
            "grid_row": null,
            "max_height": null,
            "align_content": null,
            "visibility": null,
            "align_self": null,
            "height": null,
            "min_height": null,
            "padding": null,
            "grid_auto_rows": null,
            "grid_gap": null,
            "max_width": null,
            "order": null,
            "_view_module_version": "1.2.0",
            "grid_template_areas": null,
            "object_position": null,
            "object_fit": null,
            "grid_auto_columns": null,
            "margin": null,
            "display": null,
            "left": null
          }
        },
        "7af19a66b1ac48e6bf29e762cf23eab1": {
          "model_module": "@jupyter-widgets/controls",
          "model_name": "HTMLModel",
          "model_module_version": "1.5.0",
          "state": {
            "_view_name": "HTMLView",
            "style": "IPY_MODEL_20f5e2980a224109b72e25fe61fe5961",
            "_dom_classes": [],
            "description": "",
            "_model_name": "HTMLModel",
            "placeholder": "​",
            "_view_module": "@jupyter-widgets/controls",
            "_model_module_version": "1.5.0",
            "value": "",
            "_view_count": null,
            "_view_module_version": "1.5.0",
            "description_tooltip": null,
            "_model_module": "@jupyter-widgets/controls",
            "layout": "IPY_MODEL_80624425cf1c46c48161b793c771045c"
          }
        },
        "06d174785b94483ca6e2e0b5dc657a4e": {
          "model_module": "@jupyter-widgets/controls",
          "model_name": "FloatProgressModel",
          "model_module_version": "1.5.0",
          "state": {
            "_view_name": "ProgressView",
            "style": "IPY_MODEL_b78f762157a44ebd9da1d082e16bfe5a",
            "_dom_classes": [],
            "description": "",
            "_model_name": "FloatProgressModel",
            "bar_style": "success",
            "max": 28881,
            "_view_module": "@jupyter-widgets/controls",
            "_model_module_version": "1.5.0",
            "value": 28881,
            "_view_count": null,
            "_view_module_version": "1.5.0",
            "orientation": "horizontal",
            "min": 0,
            "description_tooltip": null,
            "_model_module": "@jupyter-widgets/controls",
            "layout": "IPY_MODEL_ac22c1425815440d87fd5756cd32de2b"
          }
        },
        "87ee47dd35d84f8a83d6f5bce7224649": {
          "model_module": "@jupyter-widgets/controls",
          "model_name": "HTMLModel",
          "model_module_version": "1.5.0",
          "state": {
            "_view_name": "HTMLView",
            "style": "IPY_MODEL_d6b551cd952c4cb29dd49c7f11a3f010",
            "_dom_classes": [],
            "description": "",
            "_model_name": "HTMLModel",
            "placeholder": "​",
            "_view_module": "@jupyter-widgets/controls",
            "_model_module_version": "1.5.0",
            "value": " 29696/? [00:00&lt;00:00, 812369.08it/s]",
            "_view_count": null,
            "_view_module_version": "1.5.0",
            "description_tooltip": null,
            "_model_module": "@jupyter-widgets/controls",
            "layout": "IPY_MODEL_d1b0e40b6d394e5a9d1f19a3f1cd8756"
          }
        },
        "20f5e2980a224109b72e25fe61fe5961": {
          "model_module": "@jupyter-widgets/controls",
          "model_name": "DescriptionStyleModel",
          "model_module_version": "1.5.0",
          "state": {
            "_view_name": "StyleView",
            "_model_name": "DescriptionStyleModel",
            "description_width": "",
            "_view_module": "@jupyter-widgets/base",
            "_model_module_version": "1.5.0",
            "_view_count": null,
            "_view_module_version": "1.2.0",
            "_model_module": "@jupyter-widgets/controls"
          }
        },
        "80624425cf1c46c48161b793c771045c": {
          "model_module": "@jupyter-widgets/base",
          "model_name": "LayoutModel",
          "model_module_version": "1.2.0",
          "state": {
            "_view_name": "LayoutView",
            "grid_template_rows": null,
            "right": null,
            "justify_content": null,
            "_view_module": "@jupyter-widgets/base",
            "overflow": null,
            "_model_module_version": "1.2.0",
            "_view_count": null,
            "flex_flow": null,
            "width": null,
            "min_width": null,
            "border": null,
            "align_items": null,
            "bottom": null,
            "_model_module": "@jupyter-widgets/base",
            "top": null,
            "grid_column": null,
            "overflow_y": null,
            "overflow_x": null,
            "grid_auto_flow": null,
            "grid_area": null,
            "grid_template_columns": null,
            "flex": null,
            "_model_name": "LayoutModel",
            "justify_items": null,
            "grid_row": null,
            "max_height": null,
            "align_content": null,
            "visibility": null,
            "align_self": null,
            "height": null,
            "min_height": null,
            "padding": null,
            "grid_auto_rows": null,
            "grid_gap": null,
            "max_width": null,
            "order": null,
            "_view_module_version": "1.2.0",
            "grid_template_areas": null,
            "object_position": null,
            "object_fit": null,
            "grid_auto_columns": null,
            "margin": null,
            "display": null,
            "left": null
          }
        },
        "b78f762157a44ebd9da1d082e16bfe5a": {
          "model_module": "@jupyter-widgets/controls",
          "model_name": "ProgressStyleModel",
          "model_module_version": "1.5.0",
          "state": {
            "_view_name": "StyleView",
            "_model_name": "ProgressStyleModel",
            "description_width": "",
            "_view_module": "@jupyter-widgets/base",
            "_model_module_version": "1.5.0",
            "_view_count": null,
            "_view_module_version": "1.2.0",
            "bar_color": null,
            "_model_module": "@jupyter-widgets/controls"
          }
        },
        "ac22c1425815440d87fd5756cd32de2b": {
          "model_module": "@jupyter-widgets/base",
          "model_name": "LayoutModel",
          "model_module_version": "1.2.0",
          "state": {
            "_view_name": "LayoutView",
            "grid_template_rows": null,
            "right": null,
            "justify_content": null,
            "_view_module": "@jupyter-widgets/base",
            "overflow": null,
            "_model_module_version": "1.2.0",
            "_view_count": null,
            "flex_flow": null,
            "width": null,
            "min_width": null,
            "border": null,
            "align_items": null,
            "bottom": null,
            "_model_module": "@jupyter-widgets/base",
            "top": null,
            "grid_column": null,
            "overflow_y": null,
            "overflow_x": null,
            "grid_auto_flow": null,
            "grid_area": null,
            "grid_template_columns": null,
            "flex": null,
            "_model_name": "LayoutModel",
            "justify_items": null,
            "grid_row": null,
            "max_height": null,
            "align_content": null,
            "visibility": null,
            "align_self": null,
            "height": null,
            "min_height": null,
            "padding": null,
            "grid_auto_rows": null,
            "grid_gap": null,
            "max_width": null,
            "order": null,
            "_view_module_version": "1.2.0",
            "grid_template_areas": null,
            "object_position": null,
            "object_fit": null,
            "grid_auto_columns": null,
            "margin": null,
            "display": null,
            "left": null
          }
        },
        "d6b551cd952c4cb29dd49c7f11a3f010": {
          "model_module": "@jupyter-widgets/controls",
          "model_name": "DescriptionStyleModel",
          "model_module_version": "1.5.0",
          "state": {
            "_view_name": "StyleView",
            "_model_name": "DescriptionStyleModel",
            "description_width": "",
            "_view_module": "@jupyter-widgets/base",
            "_model_module_version": "1.5.0",
            "_view_count": null,
            "_view_module_version": "1.2.0",
            "_model_module": "@jupyter-widgets/controls"
          }
        },
        "d1b0e40b6d394e5a9d1f19a3f1cd8756": {
          "model_module": "@jupyter-widgets/base",
          "model_name": "LayoutModel",
          "model_module_version": "1.2.0",
          "state": {
            "_view_name": "LayoutView",
            "grid_template_rows": null,
            "right": null,
            "justify_content": null,
            "_view_module": "@jupyter-widgets/base",
            "overflow": null,
            "_model_module_version": "1.2.0",
            "_view_count": null,
            "flex_flow": null,
            "width": null,
            "min_width": null,
            "border": null,
            "align_items": null,
            "bottom": null,
            "_model_module": "@jupyter-widgets/base",
            "top": null,
            "grid_column": null,
            "overflow_y": null,
            "overflow_x": null,
            "grid_auto_flow": null,
            "grid_area": null,
            "grid_template_columns": null,
            "flex": null,
            "_model_name": "LayoutModel",
            "justify_items": null,
            "grid_row": null,
            "max_height": null,
            "align_content": null,
            "visibility": null,
            "align_self": null,
            "height": null,
            "min_height": null,
            "padding": null,
            "grid_auto_rows": null,
            "grid_gap": null,
            "max_width": null,
            "order": null,
            "_view_module_version": "1.2.0",
            "grid_template_areas": null,
            "object_position": null,
            "object_fit": null,
            "grid_auto_columns": null,
            "margin": null,
            "display": null,
            "left": null
          }
        },
        "8ec29961528b4ae79ec7102acf5dcfb4": {
          "model_module": "@jupyter-widgets/controls",
          "model_name": "HBoxModel",
          "model_module_version": "1.5.0",
          "state": {
            "_view_name": "HBoxView",
            "_dom_classes": [],
            "_model_name": "HBoxModel",
            "_view_module": "@jupyter-widgets/controls",
            "_model_module_version": "1.5.0",
            "_view_count": null,
            "_view_module_version": "1.5.0",
            "box_style": "",
            "layout": "IPY_MODEL_f924fa21626647f6af00544586bb903f",
            "_model_module": "@jupyter-widgets/controls",
            "children": [
              "IPY_MODEL_20e631852b8940d4a8dbe6e4b44051ec",
              "IPY_MODEL_601c3b954784488db1ba92107634a653",
              "IPY_MODEL_310f404955da465e9bcb6fd7d4fe1a5f"
            ]
          }
        },
        "f924fa21626647f6af00544586bb903f": {
          "model_module": "@jupyter-widgets/base",
          "model_name": "LayoutModel",
          "model_module_version": "1.2.0",
          "state": {
            "_view_name": "LayoutView",
            "grid_template_rows": null,
            "right": null,
            "justify_content": null,
            "_view_module": "@jupyter-widgets/base",
            "overflow": null,
            "_model_module_version": "1.2.0",
            "_view_count": null,
            "flex_flow": null,
            "width": null,
            "min_width": null,
            "border": null,
            "align_items": null,
            "bottom": null,
            "_model_module": "@jupyter-widgets/base",
            "top": null,
            "grid_column": null,
            "overflow_y": null,
            "overflow_x": null,
            "grid_auto_flow": null,
            "grid_area": null,
            "grid_template_columns": null,
            "flex": null,
            "_model_name": "LayoutModel",
            "justify_items": null,
            "grid_row": null,
            "max_height": null,
            "align_content": null,
            "visibility": null,
            "align_self": null,
            "height": null,
            "min_height": null,
            "padding": null,
            "grid_auto_rows": null,
            "grid_gap": null,
            "max_width": null,
            "order": null,
            "_view_module_version": "1.2.0",
            "grid_template_areas": null,
            "object_position": null,
            "object_fit": null,
            "grid_auto_columns": null,
            "margin": null,
            "display": null,
            "left": null
          }
        },
        "20e631852b8940d4a8dbe6e4b44051ec": {
          "model_module": "@jupyter-widgets/controls",
          "model_name": "HTMLModel",
          "model_module_version": "1.5.0",
          "state": {
            "_view_name": "HTMLView",
            "style": "IPY_MODEL_a15164bbfc3842f79e154ec0d83b4b46",
            "_dom_classes": [],
            "description": "",
            "_model_name": "HTMLModel",
            "placeholder": "​",
            "_view_module": "@jupyter-widgets/controls",
            "_model_module_version": "1.5.0",
            "value": "",
            "_view_count": null,
            "_view_module_version": "1.5.0",
            "description_tooltip": null,
            "_model_module": "@jupyter-widgets/controls",
            "layout": "IPY_MODEL_fde1aef6200d470cb14f1123ce38fe47"
          }
        },
        "601c3b954784488db1ba92107634a653": {
          "model_module": "@jupyter-widgets/controls",
          "model_name": "FloatProgressModel",
          "model_module_version": "1.5.0",
          "state": {
            "_view_name": "ProgressView",
            "style": "IPY_MODEL_7905de6c7c56437faf3f8b6e59ee0cd4",
            "_dom_classes": [],
            "description": "",
            "_model_name": "FloatProgressModel",
            "bar_style": "success",
            "max": 1648877,
            "_view_module": "@jupyter-widgets/controls",
            "_model_module_version": "1.5.0",
            "value": 1648877,
            "_view_count": null,
            "_view_module_version": "1.5.0",
            "orientation": "horizontal",
            "min": 0,
            "description_tooltip": null,
            "_model_module": "@jupyter-widgets/controls",
            "layout": "IPY_MODEL_9f562db787b842a0993558b233c7ad35"
          }
        },
        "310f404955da465e9bcb6fd7d4fe1a5f": {
          "model_module": "@jupyter-widgets/controls",
          "model_name": "HTMLModel",
          "model_module_version": "1.5.0",
          "state": {
            "_view_name": "HTMLView",
            "style": "IPY_MODEL_c817fa02be7c4820967ac2d0bb91602f",
            "_dom_classes": [],
            "description": "",
            "_model_name": "HTMLModel",
            "placeholder": "​",
            "_view_module": "@jupyter-widgets/controls",
            "_model_module_version": "1.5.0",
            "value": " 1649664/? [00:00&lt;00:00, 20728308.57it/s]",
            "_view_count": null,
            "_view_module_version": "1.5.0",
            "description_tooltip": null,
            "_model_module": "@jupyter-widgets/controls",
            "layout": "IPY_MODEL_9f2d38ae500349429492e8e9b330c150"
          }
        },
        "a15164bbfc3842f79e154ec0d83b4b46": {
          "model_module": "@jupyter-widgets/controls",
          "model_name": "DescriptionStyleModel",
          "model_module_version": "1.5.0",
          "state": {
            "_view_name": "StyleView",
            "_model_name": "DescriptionStyleModel",
            "description_width": "",
            "_view_module": "@jupyter-widgets/base",
            "_model_module_version": "1.5.0",
            "_view_count": null,
            "_view_module_version": "1.2.0",
            "_model_module": "@jupyter-widgets/controls"
          }
        },
        "fde1aef6200d470cb14f1123ce38fe47": {
          "model_module": "@jupyter-widgets/base",
          "model_name": "LayoutModel",
          "model_module_version": "1.2.0",
          "state": {
            "_view_name": "LayoutView",
            "grid_template_rows": null,
            "right": null,
            "justify_content": null,
            "_view_module": "@jupyter-widgets/base",
            "overflow": null,
            "_model_module_version": "1.2.0",
            "_view_count": null,
            "flex_flow": null,
            "width": null,
            "min_width": null,
            "border": null,
            "align_items": null,
            "bottom": null,
            "_model_module": "@jupyter-widgets/base",
            "top": null,
            "grid_column": null,
            "overflow_y": null,
            "overflow_x": null,
            "grid_auto_flow": null,
            "grid_area": null,
            "grid_template_columns": null,
            "flex": null,
            "_model_name": "LayoutModel",
            "justify_items": null,
            "grid_row": null,
            "max_height": null,
            "align_content": null,
            "visibility": null,
            "align_self": null,
            "height": null,
            "min_height": null,
            "padding": null,
            "grid_auto_rows": null,
            "grid_gap": null,
            "max_width": null,
            "order": null,
            "_view_module_version": "1.2.0",
            "grid_template_areas": null,
            "object_position": null,
            "object_fit": null,
            "grid_auto_columns": null,
            "margin": null,
            "display": null,
            "left": null
          }
        },
        "7905de6c7c56437faf3f8b6e59ee0cd4": {
          "model_module": "@jupyter-widgets/controls",
          "model_name": "ProgressStyleModel",
          "model_module_version": "1.5.0",
          "state": {
            "_view_name": "StyleView",
            "_model_name": "ProgressStyleModel",
            "description_width": "",
            "_view_module": "@jupyter-widgets/base",
            "_model_module_version": "1.5.0",
            "_view_count": null,
            "_view_module_version": "1.2.0",
            "bar_color": null,
            "_model_module": "@jupyter-widgets/controls"
          }
        },
        "9f562db787b842a0993558b233c7ad35": {
          "model_module": "@jupyter-widgets/base",
          "model_name": "LayoutModel",
          "model_module_version": "1.2.0",
          "state": {
            "_view_name": "LayoutView",
            "grid_template_rows": null,
            "right": null,
            "justify_content": null,
            "_view_module": "@jupyter-widgets/base",
            "overflow": null,
            "_model_module_version": "1.2.0",
            "_view_count": null,
            "flex_flow": null,
            "width": null,
            "min_width": null,
            "border": null,
            "align_items": null,
            "bottom": null,
            "_model_module": "@jupyter-widgets/base",
            "top": null,
            "grid_column": null,
            "overflow_y": null,
            "overflow_x": null,
            "grid_auto_flow": null,
            "grid_area": null,
            "grid_template_columns": null,
            "flex": null,
            "_model_name": "LayoutModel",
            "justify_items": null,
            "grid_row": null,
            "max_height": null,
            "align_content": null,
            "visibility": null,
            "align_self": null,
            "height": null,
            "min_height": null,
            "padding": null,
            "grid_auto_rows": null,
            "grid_gap": null,
            "max_width": null,
            "order": null,
            "_view_module_version": "1.2.0",
            "grid_template_areas": null,
            "object_position": null,
            "object_fit": null,
            "grid_auto_columns": null,
            "margin": null,
            "display": null,
            "left": null
          }
        },
        "c817fa02be7c4820967ac2d0bb91602f": {
          "model_module": "@jupyter-widgets/controls",
          "model_name": "DescriptionStyleModel",
          "model_module_version": "1.5.0",
          "state": {
            "_view_name": "StyleView",
            "_model_name": "DescriptionStyleModel",
            "description_width": "",
            "_view_module": "@jupyter-widgets/base",
            "_model_module_version": "1.5.0",
            "_view_count": null,
            "_view_module_version": "1.2.0",
            "_model_module": "@jupyter-widgets/controls"
          }
        },
        "9f2d38ae500349429492e8e9b330c150": {
          "model_module": "@jupyter-widgets/base",
          "model_name": "LayoutModel",
          "model_module_version": "1.2.0",
          "state": {
            "_view_name": "LayoutView",
            "grid_template_rows": null,
            "right": null,
            "justify_content": null,
            "_view_module": "@jupyter-widgets/base",
            "overflow": null,
            "_model_module_version": "1.2.0",
            "_view_count": null,
            "flex_flow": null,
            "width": null,
            "min_width": null,
            "border": null,
            "align_items": null,
            "bottom": null,
            "_model_module": "@jupyter-widgets/base",
            "top": null,
            "grid_column": null,
            "overflow_y": null,
            "overflow_x": null,
            "grid_auto_flow": null,
            "grid_area": null,
            "grid_template_columns": null,
            "flex": null,
            "_model_name": "LayoutModel",
            "justify_items": null,
            "grid_row": null,
            "max_height": null,
            "align_content": null,
            "visibility": null,
            "align_self": null,
            "height": null,
            "min_height": null,
            "padding": null,
            "grid_auto_rows": null,
            "grid_gap": null,
            "max_width": null,
            "order": null,
            "_view_module_version": "1.2.0",
            "grid_template_areas": null,
            "object_position": null,
            "object_fit": null,
            "grid_auto_columns": null,
            "margin": null,
            "display": null,
            "left": null
          }
        },
        "5dd57cdf9c4a4d7eb9b61bfd613af8b3": {
          "model_module": "@jupyter-widgets/controls",
          "model_name": "HBoxModel",
          "model_module_version": "1.5.0",
          "state": {
            "_view_name": "HBoxView",
            "_dom_classes": [],
            "_model_name": "HBoxModel",
            "_view_module": "@jupyter-widgets/controls",
            "_model_module_version": "1.5.0",
            "_view_count": null,
            "_view_module_version": "1.5.0",
            "box_style": "",
            "layout": "IPY_MODEL_013e2cf3e0564587809d46c7e96ac51d",
            "_model_module": "@jupyter-widgets/controls",
            "children": [
              "IPY_MODEL_a338bbd625a9463897e4c0f308b7b9d0",
              "IPY_MODEL_ce8e89744d9f45cd918e1c0a871a3500",
              "IPY_MODEL_0849457bef384828904f9c96a6d32d03"
            ]
          }
        },
        "013e2cf3e0564587809d46c7e96ac51d": {
          "model_module": "@jupyter-widgets/base",
          "model_name": "LayoutModel",
          "model_module_version": "1.2.0",
          "state": {
            "_view_name": "LayoutView",
            "grid_template_rows": null,
            "right": null,
            "justify_content": null,
            "_view_module": "@jupyter-widgets/base",
            "overflow": null,
            "_model_module_version": "1.2.0",
            "_view_count": null,
            "flex_flow": null,
            "width": null,
            "min_width": null,
            "border": null,
            "align_items": null,
            "bottom": null,
            "_model_module": "@jupyter-widgets/base",
            "top": null,
            "grid_column": null,
            "overflow_y": null,
            "overflow_x": null,
            "grid_auto_flow": null,
            "grid_area": null,
            "grid_template_columns": null,
            "flex": null,
            "_model_name": "LayoutModel",
            "justify_items": null,
            "grid_row": null,
            "max_height": null,
            "align_content": null,
            "visibility": null,
            "align_self": null,
            "height": null,
            "min_height": null,
            "padding": null,
            "grid_auto_rows": null,
            "grid_gap": null,
            "max_width": null,
            "order": null,
            "_view_module_version": "1.2.0",
            "grid_template_areas": null,
            "object_position": null,
            "object_fit": null,
            "grid_auto_columns": null,
            "margin": null,
            "display": null,
            "left": null
          }
        },
        "a338bbd625a9463897e4c0f308b7b9d0": {
          "model_module": "@jupyter-widgets/controls",
          "model_name": "HTMLModel",
          "model_module_version": "1.5.0",
          "state": {
            "_view_name": "HTMLView",
            "style": "IPY_MODEL_0ecb7e3f170e4301bb186dedd221f8ac",
            "_dom_classes": [],
            "description": "",
            "_model_name": "HTMLModel",
            "placeholder": "​",
            "_view_module": "@jupyter-widgets/controls",
            "_model_module_version": "1.5.0",
            "value": "",
            "_view_count": null,
            "_view_module_version": "1.5.0",
            "description_tooltip": null,
            "_model_module": "@jupyter-widgets/controls",
            "layout": "IPY_MODEL_d837221ac674475d800e2e542b5535a1"
          }
        },
        "ce8e89744d9f45cd918e1c0a871a3500": {
          "model_module": "@jupyter-widgets/controls",
          "model_name": "FloatProgressModel",
          "model_module_version": "1.5.0",
          "state": {
            "_view_name": "ProgressView",
            "style": "IPY_MODEL_b7384ab3c5344dbd8793a99802befb4c",
            "_dom_classes": [],
            "description": "",
            "_model_name": "FloatProgressModel",
            "bar_style": "success",
            "max": 4542,
            "_view_module": "@jupyter-widgets/controls",
            "_model_module_version": "1.5.0",
            "value": 4542,
            "_view_count": null,
            "_view_module_version": "1.5.0",
            "orientation": "horizontal",
            "min": 0,
            "description_tooltip": null,
            "_model_module": "@jupyter-widgets/controls",
            "layout": "IPY_MODEL_8123d6f1f35a476c834a65998f19be74"
          }
        },
        "0849457bef384828904f9c96a6d32d03": {
          "model_module": "@jupyter-widgets/controls",
          "model_name": "HTMLModel",
          "model_module_version": "1.5.0",
          "state": {
            "_view_name": "HTMLView",
            "style": "IPY_MODEL_b80eabe9a25e437a9b64ac0aa1262e3c",
            "_dom_classes": [],
            "description": "",
            "_model_name": "HTMLModel",
            "placeholder": "​",
            "_view_module": "@jupyter-widgets/controls",
            "_model_module_version": "1.5.0",
            "value": " 5120/? [00:00&lt;00:00, 108764.19it/s]",
            "_view_count": null,
            "_view_module_version": "1.5.0",
            "description_tooltip": null,
            "_model_module": "@jupyter-widgets/controls",
            "layout": "IPY_MODEL_1bd682c021b0455aae783d1a7ab58c0a"
          }
        },
        "0ecb7e3f170e4301bb186dedd221f8ac": {
          "model_module": "@jupyter-widgets/controls",
          "model_name": "DescriptionStyleModel",
          "model_module_version": "1.5.0",
          "state": {
            "_view_name": "StyleView",
            "_model_name": "DescriptionStyleModel",
            "description_width": "",
            "_view_module": "@jupyter-widgets/base",
            "_model_module_version": "1.5.0",
            "_view_count": null,
            "_view_module_version": "1.2.0",
            "_model_module": "@jupyter-widgets/controls"
          }
        },
        "d837221ac674475d800e2e542b5535a1": {
          "model_module": "@jupyter-widgets/base",
          "model_name": "LayoutModel",
          "model_module_version": "1.2.0",
          "state": {
            "_view_name": "LayoutView",
            "grid_template_rows": null,
            "right": null,
            "justify_content": null,
            "_view_module": "@jupyter-widgets/base",
            "overflow": null,
            "_model_module_version": "1.2.0",
            "_view_count": null,
            "flex_flow": null,
            "width": null,
            "min_width": null,
            "border": null,
            "align_items": null,
            "bottom": null,
            "_model_module": "@jupyter-widgets/base",
            "top": null,
            "grid_column": null,
            "overflow_y": null,
            "overflow_x": null,
            "grid_auto_flow": null,
            "grid_area": null,
            "grid_template_columns": null,
            "flex": null,
            "_model_name": "LayoutModel",
            "justify_items": null,
            "grid_row": null,
            "max_height": null,
            "align_content": null,
            "visibility": null,
            "align_self": null,
            "height": null,
            "min_height": null,
            "padding": null,
            "grid_auto_rows": null,
            "grid_gap": null,
            "max_width": null,
            "order": null,
            "_view_module_version": "1.2.0",
            "grid_template_areas": null,
            "object_position": null,
            "object_fit": null,
            "grid_auto_columns": null,
            "margin": null,
            "display": null,
            "left": null
          }
        },
        "b7384ab3c5344dbd8793a99802befb4c": {
          "model_module": "@jupyter-widgets/controls",
          "model_name": "ProgressStyleModel",
          "model_module_version": "1.5.0",
          "state": {
            "_view_name": "StyleView",
            "_model_name": "ProgressStyleModel",
            "description_width": "",
            "_view_module": "@jupyter-widgets/base",
            "_model_module_version": "1.5.0",
            "_view_count": null,
            "_view_module_version": "1.2.0",
            "bar_color": null,
            "_model_module": "@jupyter-widgets/controls"
          }
        },
        "8123d6f1f35a476c834a65998f19be74": {
          "model_module": "@jupyter-widgets/base",
          "model_name": "LayoutModel",
          "model_module_version": "1.2.0",
          "state": {
            "_view_name": "LayoutView",
            "grid_template_rows": null,
            "right": null,
            "justify_content": null,
            "_view_module": "@jupyter-widgets/base",
            "overflow": null,
            "_model_module_version": "1.2.0",
            "_view_count": null,
            "flex_flow": null,
            "width": null,
            "min_width": null,
            "border": null,
            "align_items": null,
            "bottom": null,
            "_model_module": "@jupyter-widgets/base",
            "top": null,
            "grid_column": null,
            "overflow_y": null,
            "overflow_x": null,
            "grid_auto_flow": null,
            "grid_area": null,
            "grid_template_columns": null,
            "flex": null,
            "_model_name": "LayoutModel",
            "justify_items": null,
            "grid_row": null,
            "max_height": null,
            "align_content": null,
            "visibility": null,
            "align_self": null,
            "height": null,
            "min_height": null,
            "padding": null,
            "grid_auto_rows": null,
            "grid_gap": null,
            "max_width": null,
            "order": null,
            "_view_module_version": "1.2.0",
            "grid_template_areas": null,
            "object_position": null,
            "object_fit": null,
            "grid_auto_columns": null,
            "margin": null,
            "display": null,
            "left": null
          }
        },
        "b80eabe9a25e437a9b64ac0aa1262e3c": {
          "model_module": "@jupyter-widgets/controls",
          "model_name": "DescriptionStyleModel",
          "model_module_version": "1.5.0",
          "state": {
            "_view_name": "StyleView",
            "_model_name": "DescriptionStyleModel",
            "description_width": "",
            "_view_module": "@jupyter-widgets/base",
            "_model_module_version": "1.5.0",
            "_view_count": null,
            "_view_module_version": "1.2.0",
            "_model_module": "@jupyter-widgets/controls"
          }
        },
        "1bd682c021b0455aae783d1a7ab58c0a": {
          "model_module": "@jupyter-widgets/base",
          "model_name": "LayoutModel",
          "model_module_version": "1.2.0",
          "state": {
            "_view_name": "LayoutView",
            "grid_template_rows": null,
            "right": null,
            "justify_content": null,
            "_view_module": "@jupyter-widgets/base",
            "overflow": null,
            "_model_module_version": "1.2.0",
            "_view_count": null,
            "flex_flow": null,
            "width": null,
            "min_width": null,
            "border": null,
            "align_items": null,
            "bottom": null,
            "_model_module": "@jupyter-widgets/base",
            "top": null,
            "grid_column": null,
            "overflow_y": null,
            "overflow_x": null,
            "grid_auto_flow": null,
            "grid_area": null,
            "grid_template_columns": null,
            "flex": null,
            "_model_name": "LayoutModel",
            "justify_items": null,
            "grid_row": null,
            "max_height": null,
            "align_content": null,
            "visibility": null,
            "align_self": null,
            "height": null,
            "min_height": null,
            "padding": null,
            "grid_auto_rows": null,
            "grid_gap": null,
            "max_width": null,
            "order": null,
            "_view_module_version": "1.2.0",
            "grid_template_areas": null,
            "object_position": null,
            "object_fit": null,
            "grid_auto_columns": null,
            "margin": null,
            "display": null,
            "left": null
          }
        }
      }
    }
  },
  "cells": [
    {
      "cell_type": "markdown",
      "metadata": {
        "id": "lXYworr580Zy"
      },
      "source": [
        "# Handwritten Digits Classifier\n",
        "Dataset: MNIST\n",
        "\n",
        "Model: LeNet-5\n",
        "\n",
        "This notebook contains helpful explainations (and some more code than the unexplained version) that help getting started in PyTorch. This also helps those who have started their Deep Learning journey.\n",
        "\n",
        "(Note how PyTorch uses \"minibatches\" and \"batches\" interchangeably. This holds true in the comments below.)\n",
        "\n",
        "### References:\n",
        "- [PyTorch Blitz](https://pytorch.org/tutorials/beginner/deep_learning_60min_blitz.html)\n",
        "- Official PyTorch Documentation"
      ]
    },
    {
      "cell_type": "markdown",
      "metadata": {
        "id": "9KxRRY8380Z3"
      },
      "source": [
        "# Libraries\n",
        "Some packages are reimported to be able to refer to them more easily."
      ]
    },
    {
      "cell_type": "code",
      "metadata": {
        "id": "eSVI2guS80Z4"
      },
      "source": [
        "#Import libraries\n",
        "import torch #for tensors, GPU enabled.\n",
        "import torchvision #for Computer Vision\n",
        "import torchvision.transforms as transforms #for common image preprocessing. Inputs are PIL/Tensor image.\n",
        "import matplotlib.pyplot as plt\n",
        "import numpy as np\n",
        "import torch.nn as nn #for building NNs. Only supports inputs that are a mini-batch of samples, and not a single sample (In which case, use input.unsqueeze(0) to add a fake batch dimension)\n",
        "import torch.nn.functional as F #for common functions like ReLu, pooling, etc.\n",
        "import torch.optim as optim #a small package implementing various optimization algorithms. can use various different update rules such as SGD, Adam, etc."
      ],
      "execution_count": 1,
      "outputs": []
    },
    {
      "cell_type": "markdown",
      "metadata": {
        "id": "8bjkbpl980Z6"
      },
      "source": [
        "# Preparing the data\n",
        "In the MNIST dataset, each image has 1 channel (grayscale), is 28*28 pixels, and is accompanied with its target label.\n",
        "\n",
        "The train set has 60,000 images and the test set has 10,000 images.\n",
        "\n",
        "For other specifics, visit the [official website](http://yann.lecun.com/exdb/mnist/).\n",
        "\n",
        "You don't have to worry about navigating this page directly, as PyTorch has pre-loaded datasets.\n",
        "\n",
        "During the preprocessing, we resize to 32*32 px since the LeNet-5 architecture takes in images of those dimensions."
      ]
    },
    {
      "cell_type": "code",
      "metadata": {
        "colab": {
          "base_uri": "https://localhost:8080/",
          "height": 446,
          "referenced_widgets": [
            "a548ce0daa374d388cbdf0716cc59346",
            "2697ec51f4a34b9ea20691b95e486f39",
            "b410090ce64049d8a2275b2641abd2ab",
            "57c15d82658340cb8a0fb0c6f33d838a",
            "7a7bd22a53c04be3981e2290de5eeb76",
            "ae8f8ebc462d429eb82c287805983f01",
            "3f263a9709784f4c88019cf70086ce53",
            "1d1eea116def45e79c150f6e5f28394c",
            "714fd57f3d5a43839c5f852ab2a87b1f",
            "1a7ae08be6874b09b4b9dc117518aa9b",
            "71289c58ebb740ee9ebf95c02a79e872",
            "3a7a6d8e12b94a42a8d37f24e49d4d21",
            "107c85e461f149f58207324e927b6275",
            "7af19a66b1ac48e6bf29e762cf23eab1",
            "06d174785b94483ca6e2e0b5dc657a4e",
            "87ee47dd35d84f8a83d6f5bce7224649",
            "20f5e2980a224109b72e25fe61fe5961",
            "80624425cf1c46c48161b793c771045c",
            "b78f762157a44ebd9da1d082e16bfe5a",
            "ac22c1425815440d87fd5756cd32de2b",
            "d6b551cd952c4cb29dd49c7f11a3f010",
            "d1b0e40b6d394e5a9d1f19a3f1cd8756",
            "8ec29961528b4ae79ec7102acf5dcfb4",
            "f924fa21626647f6af00544586bb903f",
            "20e631852b8940d4a8dbe6e4b44051ec",
            "601c3b954784488db1ba92107634a653",
            "310f404955da465e9bcb6fd7d4fe1a5f",
            "a15164bbfc3842f79e154ec0d83b4b46",
            "fde1aef6200d470cb14f1123ce38fe47",
            "7905de6c7c56437faf3f8b6e59ee0cd4",
            "9f562db787b842a0993558b233c7ad35",
            "c817fa02be7c4820967ac2d0bb91602f",
            "9f2d38ae500349429492e8e9b330c150",
            "5dd57cdf9c4a4d7eb9b61bfd613af8b3",
            "013e2cf3e0564587809d46c7e96ac51d",
            "a338bbd625a9463897e4c0f308b7b9d0",
            "ce8e89744d9f45cd918e1c0a871a3500",
            "0849457bef384828904f9c96a6d32d03",
            "0ecb7e3f170e4301bb186dedd221f8ac",
            "d837221ac674475d800e2e542b5535a1",
            "b7384ab3c5344dbd8793a99802befb4c",
            "8123d6f1f35a476c834a65998f19be74",
            "b80eabe9a25e437a9b64ac0aa1262e3c",
            "1bd682c021b0455aae783d1a7ab58c0a"
          ]
        },
        "id": "F4OpVD0h80aC",
        "outputId": "bc457102-9033-43c4-801b-b5ad76372965"
      },
      "source": [
        "#Prepare for preprocessing:\n",
        "transform = transforms.Compose([transforms.Resize(32), transforms.ToTensor(), transforms.Normalize((0.5), (0.5))])\n",
        "# ToTensor() converts a PIL Image or numpy.ndarray (H x W x C) to a torch.FloatTensor of shape (C x H x W), where C is the no. of channels\n",
        "# Normalize() takes parameters as the channel's mean and Standard Deviation. This is done so that each pixel is ensured the same Standard Normal data distribution, which makes convergence faster  \n",
        "\n",
        "#Load train dataset:\n",
        "trainset = torchvision.datasets.MNIST(root='~/.pytorch/MNIST_data/', train = True, download = True, transform = transform)  \n",
        "trainloader = torch.utils.data.DataLoader(trainset, batch_size=4, shuffle = True, num_workers = 2, drop_last = True) #Final iterable data that will be taken for training: shuffled in batches\n",
        "\n",
        "#Load test dataset:\n",
        "testset = torchvision.datasets.MNIST(root = '~/.pytorch/MNIST_data/', train = False, download = True, transform = transform)\n",
        "testloader = torch.utils.data.DataLoader(testset, batch_size=4, shuffle = False, num_workers=2, drop_last = True)\n",
        "\n",
        "classes = (\"Zero\", \"One\", \"Two\", \"Three\", \"Four\", \"Five\", \"Six\", \"Seven\", \"Eight\", \"Nine\") #Just labels, for our own printing use\n",
        "\n",
        "#Now, data is in the tensors trainset and testset as: no_of_images*2*1*32*32"
      ],
      "execution_count": 2,
      "outputs": [
        {
          "output_type": "stream",
          "name": "stdout",
          "text": [
            "Downloading http://yann.lecun.com/exdb/mnist/train-images-idx3-ubyte.gz\n",
            "Downloading http://yann.lecun.com/exdb/mnist/train-images-idx3-ubyte.gz to /root/.pytorch/MNIST_data/MNIST/raw/train-images-idx3-ubyte.gz\n"
          ]
        },
        {
          "output_type": "display_data",
          "data": {
            "application/vnd.jupyter.widget-view+json": {
              "model_id": "a548ce0daa374d388cbdf0716cc59346",
              "version_minor": 0,
              "version_major": 2
            },
            "text/plain": [
              "  0%|          | 0/9912422 [00:00<?, ?it/s]"
            ]
          },
          "metadata": {}
        },
        {
          "output_type": "stream",
          "name": "stdout",
          "text": [
            "Extracting /root/.pytorch/MNIST_data/MNIST/raw/train-images-idx3-ubyte.gz to /root/.pytorch/MNIST_data/MNIST/raw\n",
            "\n",
            "Downloading http://yann.lecun.com/exdb/mnist/train-labels-idx1-ubyte.gz\n",
            "Downloading http://yann.lecun.com/exdb/mnist/train-labels-idx1-ubyte.gz to /root/.pytorch/MNIST_data/MNIST/raw/train-labels-idx1-ubyte.gz\n"
          ]
        },
        {
          "output_type": "display_data",
          "data": {
            "application/vnd.jupyter.widget-view+json": {
              "model_id": "3a7a6d8e12b94a42a8d37f24e49d4d21",
              "version_minor": 0,
              "version_major": 2
            },
            "text/plain": [
              "  0%|          | 0/28881 [00:00<?, ?it/s]"
            ]
          },
          "metadata": {}
        },
        {
          "output_type": "stream",
          "name": "stdout",
          "text": [
            "Extracting /root/.pytorch/MNIST_data/MNIST/raw/train-labels-idx1-ubyte.gz to /root/.pytorch/MNIST_data/MNIST/raw\n",
            "\n",
            "Downloading http://yann.lecun.com/exdb/mnist/t10k-images-idx3-ubyte.gz\n",
            "Downloading http://yann.lecun.com/exdb/mnist/t10k-images-idx3-ubyte.gz to /root/.pytorch/MNIST_data/MNIST/raw/t10k-images-idx3-ubyte.gz\n"
          ]
        },
        {
          "output_type": "display_data",
          "data": {
            "application/vnd.jupyter.widget-view+json": {
              "model_id": "8ec29961528b4ae79ec7102acf5dcfb4",
              "version_minor": 0,
              "version_major": 2
            },
            "text/plain": [
              "  0%|          | 0/1648877 [00:00<?, ?it/s]"
            ]
          },
          "metadata": {}
        },
        {
          "output_type": "stream",
          "name": "stdout",
          "text": [
            "Extracting /root/.pytorch/MNIST_data/MNIST/raw/t10k-images-idx3-ubyte.gz to /root/.pytorch/MNIST_data/MNIST/raw\n",
            "\n",
            "Downloading http://yann.lecun.com/exdb/mnist/t10k-labels-idx1-ubyte.gz\n",
            "Downloading http://yann.lecun.com/exdb/mnist/t10k-labels-idx1-ubyte.gz to /root/.pytorch/MNIST_data/MNIST/raw/t10k-labels-idx1-ubyte.gz\n"
          ]
        },
        {
          "output_type": "display_data",
          "data": {
            "application/vnd.jupyter.widget-view+json": {
              "model_id": "5dd57cdf9c4a4d7eb9b61bfd613af8b3",
              "version_minor": 0,
              "version_major": 2
            },
            "text/plain": [
              "  0%|          | 0/4542 [00:00<?, ?it/s]"
            ]
          },
          "metadata": {}
        },
        {
          "output_type": "stream",
          "name": "stdout",
          "text": [
            "Extracting /root/.pytorch/MNIST_data/MNIST/raw/t10k-labels-idx1-ubyte.gz to /root/.pytorch/MNIST_data/MNIST/raw\n",
            "\n"
          ]
        }
      ]
    },
    {
      "cell_type": "markdown",
      "metadata": {
        "id": "NM0d8ujj80aF"
      },
      "source": [
        "## Peeking into the dataset\n",
        "View images in 1 minibatch."
      ]
    },
    {
      "cell_type": "code",
      "metadata": {
        "colab": {
          "base_uri": "https://localhost:8080/",
          "height": 156
        },
        "id": "cxPUnj_I80aH",
        "outputId": "dfd6ee86-6d34-4ed7-a7fd-740523c4a61d"
      },
      "source": [
        "#Check how the image is loaded finally\n",
        "def imshow(img): #A function to plot image(s)\n",
        "  #we first undo some of the preprocessing to see how the actual image is\n",
        "  img = img/2 + 0.5 #un-normalize (remember the parameters we passed to Normalize for preprocessing)\n",
        "  npimg = img.numpy() #convert from Tensor back to numpy's ndarray (needed for the transpose() below)\n",
        "  plt.imshow(np.transpose(npimg, (1,2,0))) #to plot H vs W, the axes are thus specified\n",
        "  plt.show() \n",
        "  \n",
        "dataiter = iter(trainloader) #An iterator that enumerates over batches \n",
        "images, labels = dataiter.next() #A batch of 4 samples is loaded. Each sample is it's [image, label]. Since we are loading only 1 batch, we won't need a loop\n",
        "imshow(torchvision.utils.make_grid(images)) \n",
        "print(' '.join('%5s' % classes[labels[j]] for j in range(4) )) #Remember: List comprehensions are more efficient than explicit loops!"
      ],
      "execution_count": 3,
      "outputs": [
        {
          "output_type": "display_data",
          "data": {
            "image/png": "[encoded data removed]",
            "text/plain": [
              "<Figure size 432x288 with 1 Axes>"
            ]
          },
          "metadata": {
            "needs_background": "light"
          }
        },
        {
          "output_type": "stream",
          "name": "stdout",
          "text": [
            " Zero  Zero  Nine  Zero\n"
          ]
        }
      ]
    },
    {
      "cell_type": "markdown",
      "metadata": {
        "id": "m5MaQ1j780aI"
      },
      "source": [
        "# Defining the model"
      ]
    },
    {
      "cell_type": "markdown",
      "metadata": {
        "id": "mVv9fEGR80aJ"
      },
      "source": [
        "## The network class\n",
        "The layers and their parameters below are all taken from LeNet-5."
      ]
    },
    {
      "cell_type": "code",
      "metadata": {
        "colab": {
          "base_uri": "https://localhost:8080/"
        },
        "id": "otzcbo-G80aM",
        "outputId": "2adca461-2fdf-474e-9548-459c505747b3"
      },
      "source": [
        "#A class to encapsulate the network architecture\n",
        "class Net(nn.Module): #Must inherit \"Module\", a base class for all NN modules\n",
        "  \n",
        "  def __init__(self): #constructor to define the network's layers.\n",
        "    super(Net, self).__init__() \n",
        "    self.conv1 = nn.Conv2d(1,6,5) #Valid convolution (no padding). Args: 1 input image channel, 6 output channels (/no. of filters), 5x5 square size of the convolving kernel.\n",
        "                                  #Striding assumed 1, bias is assumed added. Output is again the 4D Tensor - no.of.samples(batch size)*C*H*W\n",
        "    self.pool = nn.MaxPool2d(2,2) #Args: kernel size, stride\n",
        "    self.conv2 = nn.Conv2d(6,16,5) \n",
        "    self.fc1 = nn.Linear(16*5*5,120) #Args: input, output features. Bias set true. 16*5*5 = 400\n",
        "    self.fc2 = nn.Linear(120,84)\n",
        "    self.fc3 = nn.Linear(84,10) \n",
        "  \n",
        "  def forward(self, x): #Forward prop on x, the actual image vector \n",
        "    x = self.pool(F.relu(self.conv1(x))) \n",
        "    x = self.pool(F.relu(self.conv2(x)))\n",
        "    x = x.view(-1, 16*5*5) #reshaping\n",
        "    x = F.relu(self.fc1(x))\n",
        "    x = F.relu(self.fc2(x))\n",
        "    x = self.fc3(x) #The softmax activation isn't done here as combining it with loss calculations will make it more computationally efficient. Hence, this will automatically be taken care of by the loss criterion that we chose later\n",
        "    return x\n",
        "\n",
        "net = Net() \n",
        "\n",
        "#Just for info:\n",
        "print(net) \n",
        "params = list(net.parameters()) #shows the learnable parameters of our model\n",
        "print(len(params)) #no. of parameter tensors (arrays) = no.of.layers*2, as each layer has 1 Weight and 1 Bias array \n",
        "for s in range(len(params)): #show the actual no. of weights and biases for each layer\n",
        "  print(s, \":\", params[s].size()) #(W,b)"
      ],
      "execution_count": 4,
      "outputs": [
        {
          "output_type": "stream",
          "name": "stdout",
          "text": [
            "Net(\n",
            "  (conv1): Conv2d(1, 6, kernel_size=(5, 5), stride=(1, 1))\n",
            "  (pool): MaxPool2d(kernel_size=2, stride=2, padding=0, dilation=1, ceil_mode=False)\n",
            "  (conv2): Conv2d(6, 16, kernel_size=(5, 5), stride=(1, 1))\n",
            "  (fc1): Linear(in_features=400, out_features=120, bias=True)\n",
            "  (fc2): Linear(in_features=120, out_features=84, bias=True)\n",
            "  (fc3): Linear(in_features=84, out_features=10, bias=True)\n",
            ")\n",
            "10\n",
            "0 : torch.Size([6, 1, 5, 5])\n",
            "1 : torch.Size([6])\n",
            "2 : torch.Size([16, 6, 5, 5])\n",
            "3 : torch.Size([16])\n",
            "4 : torch.Size([120, 400])\n",
            "5 : torch.Size([120])\n",
            "6 : torch.Size([84, 120])\n",
            "7 : torch.Size([84])\n",
            "8 : torch.Size([10, 84])\n",
            "9 : torch.Size([10])\n"
          ]
        }
      ]
    },
    {
      "cell_type": "markdown",
      "metadata": {
        "id": "eRwD9z1Z80aN"
      },
      "source": [
        "## The loss function and the update rule\n",
        "The negative log likelihood loss is apt for multi-class training.\n",
        "\n",
        "The SGD is a pretty introductory update rule, that a beginner may be familiar with. "
      ]
    },
    {
      "cell_type": "code",
      "metadata": {
        "id": "6-Zs3OiN80aN"
      },
      "source": [
        "#Deciding the Loss function and Optimizer\n",
        "criterion = nn.CrossEntropyLoss()  #an optimizer object, that will hold the current state and will update the parameters by step() after gradients are computed by backward().\n",
        "# This criterion combines nn.LogSoftmax() (hence did not apply activn in the NN Model itself) and nn.NLLLoss() in one single class.\n",
        "# Input: raw, unnormalized scores for each class (i.e the final layer output of our model) of Tensor dims (minibatch, C classes), along with their Target labels.\n",
        "# FINAL output is the SCALAR cost (averaged over the minibatch)\n",
        "\n",
        "optimizer = optim.SGD(net.parameters(), lr = 0.001, momentum = 0.9)"
      ],
      "execution_count": 5,
      "outputs": []
    },
    {
      "cell_type": "markdown",
      "metadata": {
        "id": "H7900m1a80aO"
      },
      "source": [
        "# Training the model\n",
        "Loop over our data iterator, feeding the inputs to the network, and optimize."
      ]
    },
    {
      "cell_type": "code",
      "metadata": {
        "colab": {
          "base_uri": "https://localhost:8080/"
        },
        "id": "4AAUSzI_80aO",
        "outputId": "1afdfa23-41a2-4463-c43a-6d3f194d83dd"
      },
      "source": [
        "x_minibatches=[] #x and y for plotting the training curve later\n",
        "y_loss=[]\n",
        "optimizer.zero_grad() #initializes gradients to 0\n",
        "running_loss = 0.0\n",
        "\n",
        "for epoch in range(3): \n",
        "  print(\"Epoch loss:\", running_loss/1000) #The inner loop runs 15k times, where the loss is reset every 2000th batch. This leaves space for 1000 batches' loss to be recorded, as statistics for every epoch.   \n",
        "  running_loss = 0.0\n",
        "  for i, data in enumerate(trainloader, 0): #as said before, the DataLoader enumerates over batches, so i is also the no. of minibatches\n",
        "     inputs, labels = data\n",
        "     optimizer.zero_grad() #Zero the existing gradient buffers of all parameters, else gradients will be accumulated (i.e summed) to existing gradients (from the previous batch).\n",
        "     outputs = net(inputs) #Forward prop. This syntax works (instead of directly calling forward()) because the base Module class allows it (similarly for the next line)\n",
        "     loss = criterion(outputs, labels) #The scalar loss is held in this object\n",
        "     loss.backward()  #Backward prop. This is when accumulation of grads happen. \n",
        "     optimizer.step()  #Optimizer finally updates the parameters\n",
        "    \n",
        "     #Record some statistics:\n",
        "     running_loss += loss.item()  #Torch.Tensor.item() retrieves the scalar value, rather than a tensor\n",
        "     if i%2000 == 1999: #For every 2000 minibatches (or 8k images)\n",
        "       print('[%d, %d] loss: %.3f' %(epoch+1, i+1, running_loss/2000)) \n",
        "       x_minibatches.append((i+1)*4+(epoch*60000)) #Record at which stage of the data...\n",
        "       y_loss.append(running_loss/2000)            #...the loss was recorded. Helps in plotting a graph.\n",
        "       running_loss = 0.0 #Reset the loss, so we know how the loss changes within a reasonable frame (an average loss from the beginning would be meaningless)\n",
        "\n",
        "print('Finished training')\n",
        "\n",
        "#Demo: We will be showing how to save the trained model params and load them back in. However, this isn't a necessary step and one could directly pass the test set to the model class, like we did during training.  \n",
        "PATH = './MNIST_net.pth' #By convention, PyTorch files have pt/pth extension\n",
        "torch.save(net.state_dict(), PATH) #recommended to save state dict rather than module for compatibility\n",
        "# A module’s state dict contains all of its parameters and persistent buffers. (even optims have this, also having hyperparas)"
      ],
      "execution_count": 6,
      "outputs": [
        {
          "output_type": "stream",
          "name": "stdout",
          "text": [
            "Epoch loss: 0.0\n",
            "[1, 2000] loss: 1.044\n",
            "[1, 4000] loss: 0.209\n",
            "[1, 6000] loss: 0.141\n",
            "[1, 8000] loss: 0.109\n",
            "[1, 10000] loss: 0.090\n",
            "[1, 12000] loss: 0.081\n",
            "[1, 14000] loss: 0.081\n",
            "Epoch loss: 0.08143176434358156\n",
            "[2, 2000] loss: 0.064\n",
            "[2, 4000] loss: 0.060\n",
            "[2, 6000] loss: 0.058\n",
            "[2, 8000] loss: 0.058\n",
            "[2, 10000] loss: 0.054\n",
            "[2, 12000] loss: 0.049\n",
            "[2, 14000] loss: 0.057\n",
            "Epoch loss: 0.05984801999468891\n",
            "[3, 2000] loss: 0.038\n",
            "[3, 4000] loss: 0.040\n",
            "[3, 6000] loss: 0.042\n",
            "[3, 8000] loss: 0.037\n",
            "[3, 10000] loss: 0.040\n",
            "[3, 12000] loss: 0.044\n",
            "[3, 14000] loss: 0.042\n",
            "Finished training\n"
          ]
        }
      ]
    },
    {
      "cell_type": "markdown",
      "metadata": {
        "id": "1nsf9pxO80ab"
      },
      "source": [
        "# Peeking into the trained model "
      ]
    },
    {
      "cell_type": "code",
      "metadata": {
        "colab": {
          "base_uri": "https://localhost:8080/",
          "height": 1000
        },
        "id": "zyUG3ZBk80ac",
        "outputId": "9c43488f-fb48-45a8-84b4-1ecf3d219659"
      },
      "source": [
        "#We can directly see the grads and params of any layer:\n",
        "print('Sample Grads: ', net.conv1.bias.grad) \n",
        "print('Sample Paras: ', net.conv1.bias)\n",
        "# print(params) prints all params, each W and b. print(net.parameters()) only shows an object in memory. \n",
        "\n",
        "#Plot a graph for the loss throughout the training:\n",
        "plt.plot(x_minibatches, y_loss, marker='.', markerfacecolor='g') \n",
        "for i in range(len(x_minibatches)):\n",
        "    if i%7==0:\n",
        "        plt.annotate(\"Epoch \" + str(int(i/7)+1), (x_minibatches[i], y_loss[i]))\n",
        "plt.xlabel(\"Total no. of images progressed through\")\n",
        "plt.ylabel(\"Avg. Loss\")\n",
        "plt.title('Avg. Loss for every 8k images')\n",
        "plt.show()\n",
        "\n",
        "#From previous graph we see that the scale of just the first plot point makes it imopssible to see the actual progress in later epochs \n",
        "#So, zoom in, depending on the first point, while still maintaing a perspective of the 1st-to-2nd points' slope.\n",
        "plt.ylim(top=0.225)\n",
        "plt.plot(x_minibatches, y_loss, marker='.', markerfacecolor='g') \n",
        "for i in range(len(x_minibatches)):\n",
        "    if i%7==0:\n",
        "        plt.annotate(\"Epoch \" + str(int(i/7)+1), (x_minibatches[i], y_loss[i]))\n",
        "plt.xlabel(\"Total no. of images progressed through\")\n",
        "plt.ylabel(\"Avg. Loss\")\n",
        "plt.title('Avg. Loss for every 8k images')\n",
        "plt.show()"
      ],
      "execution_count": 7,
      "outputs": [
        {
          "output_type": "stream",
          "name": "stdout",
          "text": [
            "Sample Grads:  tensor([-0.0160,  0.0146,  0.0086, -0.0092, -0.0126, -0.0002])\n",
            "Sample Paras:  Parameter containing:\n",
            "tensor([ 0.2372,  0.1222,  0.1215, -0.4027, -0.6526,  0.1432],\n",
            "       requires_grad=True)\n"
          ]
        },
        {
          "output_type": "display_data",
          "data": {
            "image/png": "[encoded data removed]",
            "text/plain": [
              "<Figure size 432x288 with 1 Axes>"
            ]
          },
          "metadata": {
            "needs_background": "light"
          }
        },
        {
          "output_type": "display_data",
          "data": {
            "image/png": "[encoded data removed]",
            "text/plain": [
              "<Figure size 432x288 with 1 Axes>"
            ]
          },
          "metadata": {
            "needs_background": "light"
          }
        }
      ]
    },
    {
      "cell_type": "markdown",
      "metadata": {
        "id": "jqTkmyeD80ap"
      },
      "source": [
        "## A live sample test of the predictions made by the model"
      ]
    },
    {
      "cell_type": "code",
      "metadata": {
        "colab": {
          "base_uri": "https://localhost:8080/",
          "height": 174
        },
        "id": "C_zX7dcW80aq",
        "outputId": "02bb711f-cc8a-4105-d963-e7c8b5120436"
      },
      "source": [
        "dataiter = iter(testloader)\n",
        "images, labels = dataiter.next() \n",
        "imshow(torchvision.utils.make_grid(images)) #Print images...\n",
        "print('Target labels: ', ' '.join('%5s' % classes[labels[j]] for j in range(4))) #...and their actual target labels\n",
        "net = Net()  \n",
        "net.load_state_dict(torch.load(PATH)) # So we first saved, then load the trained state_dict, then put it in the required module's state_dict\n",
        "outputs = net(images) #The actual testing. As said before, we can skip all the saving-and-loading and directly do this for the testset\n",
        "_, predicted = torch.max(outputs, 1) #Second argument tells that we want to vary the column index in search of the max (\"outputs\" is of 4*10 dims). This gives us the max for each row (image)  \n",
        "#max() returns 2 things: 1st the actual max value (which we don't need, so '_' is just a placeholder), and 2nd the index where the max elem was found, which also corresponds to the class (which we need)  \n",
        "#Notice how we didn't have to apply the last activation layer. This saves us from doing an unnecesary layer on the testset\n",
        "\n",
        "print('Predicted labels: ', ' '.join('%5s' % classes[predicted[j]] for j in range(4)))"
      ],
      "execution_count": 8,
      "outputs": [
        {
          "output_type": "display_data",
          "data": {
            "image/png": "[encoded data removed]",
            "text/plain": [
              "<Figure size 432x288 with 1 Axes>"
            ]
          },
          "metadata": {
            "needs_background": "light"
          }
        },
        {
          "output_type": "stream",
          "name": "stdout",
          "text": [
            "Target labels:  Seven   Two   One  Zero\n",
            "Predicted labels:  Seven   Two   One  Zero\n"
          ]
        }
      ]
    },
    {
      "cell_type": "markdown",
      "metadata": {
        "id": "i_FC8NYQ80ar"
      },
      "source": [
        "# Testing the model\n",
        "Putting the model through both the test and train sets to see how well it performs.\n",
        "\n",
        "We add aditional metrics to see how well it's recognizing each class."
      ]
    },
    {
      "cell_type": "code",
      "metadata": {
        "colab": {
          "base_uri": "https://localhost:8080/"
        },
        "id": "p67PkGY680a2",
        "outputId": "60e50aea-1135-407e-bdc3-cb8e2a212e19"
      },
      "source": [
        "#Test set:\n",
        "correct = 0.0\n",
        "total = 0.0 \n",
        "class_correct = list(0. for i in range(10))\n",
        "class_total = list(0. for i in range(10))\n",
        "with torch.no_grad(): #no_grad() is a context-manager that disables gradient calculation, use when you are sure you wont do T.backward(). It will reduce memory consumption for computations.\n",
        "  for data in testloader:\n",
        "    images, labels = data\n",
        "    outputs = net(images)\n",
        "    _, predicted = torch.max(outputs.data, 1) #the .data just specifies not to keep track of changes in the parameters, so use it only if you won't need its grads again. \n",
        "    # Though it doesn't make a difference in the code, I mentioned .data here as you might see it elsewhere. It's safer to use .detach() though.\n",
        "    total+=labels.size(0) \n",
        "    correct += (predicted==labels).sum().item() #this 'construct' counts number of same entries across 2 tensors\n",
        "    # For accuracy per class:\n",
        "    c = (predicted == labels).squeeze()\n",
        "    for i in range(4):\n",
        "      label = labels[i]\n",
        "      class_correct[label] += c[i].item() #since True is 1 and False is just 0. \n",
        "      class_total[label] += 1\n",
        "print('Test set accuracy: %f %%' %(100.0*correct/total)) \n",
        "\n",
        "# Similarly, for the train set:\n",
        "correct = 0.0\n",
        "total = 0.0\n",
        "with torch.no_grad():\n",
        "  for data in trainloader:\n",
        "    images, labels = data\n",
        "    outputs = net(images)\n",
        "    _, predicted = torch.max(outputs.data, 1)\n",
        "    total+=labels.size(0) \n",
        "    correct += (predicted==labels).sum().item() \n",
        "print('Train set accuracy: %f %%' %(100.0*correct/total))\n",
        "\n",
        "#Print accuracy per class:\n",
        "avg_acc = 0.0\n",
        "for i in range(10):\n",
        "    x = 100.0 * class_correct[i] / class_total[i]\n",
        "    avg_acc +=x\n",
        "    print('Accuracy of %5s : %f %%' % (classes[i], x))\n",
        "avg_acc/=10\n",
        "print(\"Average class accuracy: \", avg_acc)"
      ],
      "execution_count": 9,
      "outputs": [
        {
          "output_type": "stream",
          "name": "stdout",
          "text": [
            "Test set accuracy: 98.750000 %\n",
            "Train set accuracy: 99.145000 %\n",
            "Accuracy of  Zero : 99.591837 %\n",
            "Accuracy of   One : 99.823789 %\n",
            "Accuracy of   Two : 98.546512 %\n",
            "Accuracy of Three : 98.910891 %\n",
            "Accuracy of  Four : 98.167006 %\n",
            "Accuracy of  Five : 98.766816 %\n",
            "Accuracy of   Six : 98.434238 %\n",
            "Accuracy of Seven : 98.346304 %\n",
            "Accuracy of Eight : 99.178645 %\n",
            "Accuracy of  Nine : 97.621407 %\n",
            "Average class accuracy:  98.73874438470673\n"
          ]
        }
      ]
    }
  ]
}